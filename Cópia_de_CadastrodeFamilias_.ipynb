{
  "nbformat": 4,
  "nbformat_minor": 0,
  "metadata": {
    "colab": {
      "provenance": [],
      "authorship_tag": "ABX9TyNAiMeXhThG6D9sDjmXBQ03",
      "include_colab_link": true
    },
    "kernelspec": {
      "name": "python3",
      "display_name": "Python 3"
    },
    "language_info": {
      "name": "python"
    }
  },
  "cells": [
    {
      "cell_type": "markdown",
      "metadata": {
        "id": "view-in-github",
        "colab_type": "text"
      },
      "source": [
        "<a href=\"https://colab.research.google.com/github/kalibha/gerenciador_estoque/blob/main/C%C3%B3pia_de_CadastrodeFamilias_.ipynb\" target=\"_parent\"><img src=\"https://colab.research.google.com/assets/colab-badge.svg\" alt=\"Open In Colab\"/></a>"
      ]
    },
    {
      "cell_type": "code",
      "execution_count": null,
      "metadata": {
        "id": "w6Bx3eTPwApd"
      },
      "outputs": [],
      "source": []
    },
    {
      "cell_type": "markdown",
      "source": [
        "Funcionalidades do programa\n",
        "\n",
        "**Cadastro de Família**:Permitir inserir novas famílias no sistema.\n",
        "\n",
        "**Editar Família:**Alterar informações de famílias já cadastradas.\n",
        "\n",
        "**Pesquisar Família:**Habilitar a busca por famílias específicas através de critérios como sobrenome, responsável, etc.\n",
        "\n",
        "**Listar Famílias:**Exibir todas as famílias cadastradas no sistema.\n",
        "\n",
        "**Remover Família:**Remover uma família do cadastro.\n",
        "\n",
        "**Sair: **Limpa a tela, envia mensagem de despedida e fecha.\n",
        "\n",
        "\n",
        "**Menu inicial **- Mostrar menu com 5 opções de funcionalidades;\n",
        "\n",
        "- Criar input para receber o valor da funcionalidade que o usuário deseja.\n",
        "\n",
        "Criar as funções:\n",
        "\n",
        "**CadastroFamilia**\n",
        "\n",
        "**EditarFamilia**\n",
        "\n",
        "**PesquisarFamilia**\n",
        "\n",
        "**ListarFamilias**\n",
        "\n",
        "**RemoverFamilia**\n",
        "\n",
        "**SairPrograma**"
      ],
      "metadata": {
        "id": "rK31ab2UwBVq"
      }
    },
    {
      "cell_type": "code",
      "source": [
        "def exibir_menu():\n",
        "    while True:\n",
        "        print(\"\\nMenu Inicial\")\n",
        "        print(\"1 - Cadastro Família\")\n",
        "        print(\"2 - Editar Família\")\n",
        "        print(\"3 - Pesquisar Família\")\n",
        "        print(\"4 - Listar Famílias\")\n",
        "        print(\"5 - Remover Família\")\n",
        "        print(\"6 - Sair\")\n",
        "        opcao = input(\"Escolha uma opção: \")\n",
        "        if opcao == '1':\n",
        "            cadastrar_familia()\n",
        "        elif opcao == '2':\n",
        "            editar_familia()\n",
        "        elif opcao == '3':\n",
        "            pesquisar_familia()\n",
        "        elif opcao == '4':\n",
        "            listar_familias()\n",
        "        elif opcao == '5':\n",
        "            remover_familia()\n",
        "        elif opcao == '6':\n",
        "            print(\"Obrigado por usar o sistema. Até logo!\")\n",
        "            break\n",
        "        else:\n",
        "            print(\"Opção inválida. Por favor, tente novamente.\")\n",
        "\n",
        "def cadastrar_familia():\n",
        "    print(\"Função Cadastro em desenvolvimento\")\n",
        "    pass  # Implementação futura\n",
        "\n",
        "def editar_familia():\n",
        "    print(\"Função Editar em desenvolvimento\")\n",
        "    pass  # Implementação futura\n",
        "\n",
        "def pesquisar_familia():\n",
        "    print(\"Função Pesquisa em desenvolvimento\")\n",
        "    pass  # Implementação futura\n",
        "\n",
        "def listar_familias():\n",
        "    print(\"Função Listar em desenvolvimento\")\n",
        "    pass  # Implementação futura\n",
        "\n",
        "def remover_familia():\n",
        "    print(\"Função Remover em desenvolvimento\")\n",
        "    pass  # Implementação futura\n",
        "\n",
        "exibir_menu()\n"
      ],
      "metadata": {
        "id": "yNbZGUGD0fb9"
      },
      "execution_count": null,
      "outputs": []
    },
    {
      "cell_type": "code",
      "source": [
        "codigo_sequencial = 1\n",
        "familias_cadastradas = []\n",
        "\n",
        "codigo_sequencial = 1\n",
        "familias_cadastradas = []\n",
        "\n",
        "def cadastrar_responsavel():\n",
        "    print(\"Cadastro de responsável. Deixe em branco e pressione Enter para encerrar.\")\n",
        "    cpf = input(\"Digite o CPF do responsável: \")\n",
        "    if cpf == \"\":\n",
        "        print(\"O cadastro do responsável é obrigatório.\")\n",
        "        return cadastrar_responsavel()  # Chama a função novamente se nenhum CPF for fornecido\n",
        "    nome_responsavel = input(\"Digite o nome do Responsável: \")\n",
        "    if nome_responsavel == \"\":\n",
        "        print(\"O nome do responsável não pode ser vazio.\")\n",
        "        return cadastrar_responsavel()  # Chama a função novamente se nenhum nome for fornecido\n",
        "    idade = int(input(\"Digite a idade do responsável: \"))\n",
        "    if idade < 18:\n",
        "        print(\"Erro: O responsável deve ser maior de 18 anos.\")\n",
        "        return cadastrar_responsavel()  # Chama a função novamente se a idade for inválida\n",
        "\n",
        "    return [{'CPF': cpf, 'Nome': nome_responsavel, 'Idade': idade}]\n",
        "\n",
        "def cadastrar_tutorados():\n",
        "    tutorados = []\n",
        "    print(\"Cadastro de tutorados. Deixe em branco e pressione Enter para encerrar.\")\n",
        "    while True:\n",
        "        nome_tutorado = input(\"Digite o nome do tutorado: \").strip()\n",
        "        if nome_tutorado == \"\":\n",
        "            break\n",
        "        tutorados.append(nome_tutorado)\n",
        "    return tutorados\n",
        "\n",
        "def cadastrar_familia():\n",
        "    global codigo_sequencial\n",
        "    print(\"Cadastro de nova família:\")\n",
        "    responsaveis = cadastrar_responsavel()\n",
        "    if not responsaveis:\n",
        "        print(\"Cadastro cancelado, nenhuma informação foi salva.\")\n",
        "        return\n",
        "    tutorados = cadastrar_tutorados()\n",
        "\n",
        "    familia = {\n",
        "        'Código': codigo_sequencial,\n",
        "        'Responsáveis': responsaveis,\n",
        "        'Tutorados': tutorados\n",
        "    }\n",
        "    familias_cadastradas.append(familia)\n",
        "    print(f\"Família cadastrada com sucesso! Código de cadastro: {codigo_sequencial}\")\n",
        "    print(\"\\nResponsáveis:\")\n",
        "    for responsavel in responsaveis:\n",
        "        print(f\"CPF: {responsavel['CPF']}, Idade: {responsavel['Idade']}\")\n",
        "    print(\"Tutorados:\")\n",
        "    for tutorado in tutorados:\n",
        "        print(f\"Nome: {tutorado}\")\n",
        "    codigo_sequencial += 1\n",
        "    print(\"\\n\")\n",
        "exibir_menu()"
      ],
      "metadata": {
        "colab": {
          "base_uri": "https://localhost:8080/"
        },
        "id": "xClcbKhQP5yM",
        "outputId": "fffd5c7b-a31d-4018-cdc7-2c254c4321e7"
      },
      "execution_count": null,
      "outputs": [
        {
          "output_type": "stream",
          "name": "stdout",
          "text": [
            "\n",
            "Menu Inicial\n",
            "1 - Cadastro Família\n",
            "2 - Editar Família\n",
            "3 - Pesquisar Família\n",
            "4 - Listar Famílias\n",
            "5 - Remover Família\n",
            "6 - Sair\n",
            "Escolha uma opção: 1\n",
            "Cadastro de nova família:\n",
            "Cadastro de responsável. Deixe em branco e pressione Enter para encerrar.\n",
            "Digite o CPF do responsável: 0999020202\n",
            "Digite o nome do Responsável: Ivanildo Mota\n",
            "Digite a idade do responsável: 42\n",
            "Cadastro de tutorados. Deixe em branco e pressione Enter para encerrar.\n",
            "Digite o nome do tutorado: sdvsdvsdvc\n",
            "Digite o nome do tutorado: sdcSADCsdv\n",
            "Digite o nome do tutorado: zxcczdfasef\n",
            "Digite o nome do tutorado: zdcvzdvsdv\n",
            "Digite o nome do tutorado: zczdfEASF\n",
            "Digite o nome do tutorado: zDCVZDVSD\n",
            "Digite o nome do tutorado: \n",
            "Família cadastrada com sucesso! Código de cadastro: 1\n",
            "\n",
            "Responsáveis:\n",
            "CPF: 0999020202, Idade: 42\n",
            "Tutorados:\n",
            "Nome: sdvsdvsdvc\n",
            "Nome: sdcSADCsdv\n",
            "Nome: zxcczdfasef\n",
            "Nome: zdcvzdvsdv\n",
            "Nome: zczdfEASF\n",
            "Nome: zDCVZDVSD\n",
            "\n",
            "\n",
            "\n",
            "Menu Inicial\n",
            "1 - Cadastro Família\n",
            "2 - Editar Família\n",
            "3 - Pesquisar Família\n",
            "4 - Listar Famílias\n",
            "5 - Remover Família\n",
            "6 - Sair\n",
            "Escolha uma opção: 6\n",
            "Obrigado por usar o sistema. Até logo!\n"
          ]
        }
      ]
    },
    {
      "cell_type": "code",
      "source": [],
      "metadata": {
        "id": "QwdL_zKw9Q6N"
      },
      "execution_count": null,
      "outputs": []
    }
  ]
}